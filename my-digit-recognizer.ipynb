{
 "cells": [
  {
   "cell_type": "markdown",
   "id": "varied-analysis",
   "metadata": {
    "papermill": {
     "duration": 0.021581,
     "end_time": "2021-04-22T15:00:50.841163",
     "exception": false,
     "start_time": "2021-04-22T15:00:50.819582",
     "status": "completed"
    },
    "tags": []
   },
   "source": [
    "# MNIST DATASET"
   ]
  },
  {
   "cell_type": "markdown",
   "id": "handmade-weather",
   "metadata": {
    "papermill": {
     "duration": 0.020394,
     "end_time": "2021-04-22T15:00:50.882673",
     "exception": false,
     "start_time": "2021-04-22T15:00:50.862279",
     "status": "completed"
    },
    "tags": []
   },
   "source": [
    "The MNIST database (Modified National Institute of Standards and Technology database) is a large database of handwritten digits that is commonly used for training various image processing systems.The database is also widely used for training and testing in the field of machine learning.It was created by \"re-mixing\" the samples from NIST's original datasets."
   ]
  },
  {
   "cell_type": "markdown",
   "id": "pharmaceutical-activity",
   "metadata": {
    "papermill": {
     "duration": 0.020465,
     "end_time": "2021-04-22T15:00:50.923853",
     "exception": false,
     "start_time": "2021-04-22T15:00:50.903388",
     "status": "completed"
    },
    "tags": []
   },
   "source": [
    "# 1. Importing necessary libraries. "
   ]
  },
  {
   "cell_type": "code",
   "execution_count": 1,
   "id": "polar-minutes",
   "metadata": {
    "execution": {
     "iopub.execute_input": "2021-04-22T15:00:50.972092Z",
     "iopub.status.busy": "2021-04-22T15:00:50.970547Z",
     "iopub.status.idle": "2021-04-22T15:00:52.454490Z",
     "shell.execute_reply": "2021-04-22T15:00:52.453874Z"
    },
    "papermill": {
     "duration": 1.508895,
     "end_time": "2021-04-22T15:00:52.454663",
     "exception": false,
     "start_time": "2021-04-22T15:00:50.945768",
     "status": "completed"
    },
    "tags": []
   },
   "outputs": [],
   "source": [
    "import torch\n",
    "from tqdm import tqdm\n",
    "import numpy as np\n",
    "from torchvision import transforms,models\n",
    "import pandas as pd\n",
    "import matplotlib.pyplot as plt\n",
    "from torch.utils.data import TensorDataset, DataLoader, Dataset,ConcatDataset\n",
    "from torch import nn"
   ]
  },
  {
   "cell_type": "markdown",
   "id": "alone-neutral",
   "metadata": {
    "papermill": {
     "duration": 0.021082,
     "end_time": "2021-04-22T15:00:52.496856",
     "exception": false,
     "start_time": "2021-04-22T15:00:52.475774",
     "status": "completed"
    },
    "tags": []
   },
   "source": [
    "# 2. Using pandas library to read the datasets."
   ]
  },
  {
   "cell_type": "code",
   "execution_count": 2,
   "id": "endless-madness",
   "metadata": {
    "execution": {
     "iopub.execute_input": "2021-04-22T15:00:52.544203Z",
     "iopub.status.busy": "2021-04-22T15:00:52.543670Z",
     "iopub.status.idle": "2021-04-22T15:00:58.480718Z",
     "shell.execute_reply": "2021-04-22T15:00:58.480214Z"
    },
    "papermill": {
     "duration": 5.963474,
     "end_time": "2021-04-22T15:00:58.480860",
     "exception": false,
     "start_time": "2021-04-22T15:00:52.517386",
     "status": "completed"
    },
    "tags": []
   },
   "outputs": [],
   "source": [
    "train=pd.read_csv(\"../input/digit-recognizer/train.csv\")\n",
    "test=pd.read_csv(\"../input/digit-recognizer/test.csv\")\n"
   ]
  },
  {
   "cell_type": "markdown",
   "id": "alpha-small",
   "metadata": {
    "papermill": {
     "duration": 0.020631,
     "end_time": "2021-04-22T15:00:58.522742",
     "exception": false,
     "start_time": "2021-04-22T15:00:58.502111",
     "status": "completed"
    },
    "tags": []
   },
   "source": [
    "# 3. Creating a custom class to load data."
   ]
  },
  {
   "cell_type": "code",
   "execution_count": 3,
   "id": "copyrighted-player",
   "metadata": {
    "execution": {
     "iopub.execute_input": "2021-04-22T15:00:58.573448Z",
     "iopub.status.busy": "2021-04-22T15:00:58.572779Z",
     "iopub.status.idle": "2021-04-22T15:00:58.575909Z",
     "shell.execute_reply": "2021-04-22T15:00:58.575474Z"
    },
    "papermill": {
     "duration": 0.031971,
     "end_time": "2021-04-22T15:00:58.576020",
     "exception": false,
     "start_time": "2021-04-22T15:00:58.544049",
     "status": "completed"
    },
    "tags": []
   },
   "outputs": [],
   "source": [
    "class MnistDataset(Dataset):\n",
    "    \n",
    "    def __init__(self, dataframe, \n",
    "                 transform = transforms.Compose([transforms.ToTensor()])):\n",
    "        \n",
    "        df = dataframe\n",
    "        self.n_pixels = 784\n",
    "        \n",
    "        if len(df.columns) == self.n_pixels:\n",
    "            # validation data\n",
    "            self.X = df.values.reshape((-1,28,28)).astype(np.uint8)[:,:,:,None]\n",
    "            self.y = None\n",
    "        else:\n",
    "            # training data\n",
    "            self.X = df.iloc[:,1:].values.reshape((-1,28,28)).astype(np.uint8)[:,:,:,None]\n",
    "            self.y = torch.from_numpy(df.iloc[:,0].values)\n",
    "            \n",
    "        self.transform = transform\n",
    "    \n",
    "    def __len__(self):\n",
    "        return len(self.X)\n",
    "    \n",
    "    def __getitem__(self, idx):\n",
    "        if self.y is not None:\n",
    "            return self.transform(self.X[idx]), self.y[idx]\n",
    "        else:\n",
    "            return self.transform(self.X[idx])"
   ]
  },
  {
   "cell_type": "markdown",
   "id": "cubic-money",
   "metadata": {
    "papermill": {
     "duration": 0.020754,
     "end_time": "2021-04-22T15:00:58.617776",
     "exception": false,
     "start_time": "2021-04-22T15:00:58.597022",
     "status": "completed"
    },
    "tags": []
   },
   "source": [
    "# 4. Defining the transforms."
   ]
  },
  {
   "cell_type": "code",
   "execution_count": 4,
   "id": "vietnamese-lending",
   "metadata": {
    "execution": {
     "iopub.execute_input": "2021-04-22T15:00:58.670813Z",
     "iopub.status.busy": "2021-04-22T15:00:58.669584Z",
     "iopub.status.idle": "2021-04-22T15:00:58.671969Z",
     "shell.execute_reply": "2021-04-22T15:00:58.672371Z"
    },
    "papermill": {
     "duration": 0.033766,
     "end_time": "2021-04-22T15:00:58.672532",
     "exception": false,
     "start_time": "2021-04-22T15:00:58.638766",
     "status": "completed"
    },
    "tags": []
   },
   "outputs": [],
   "source": [
    " img_tform_1 = transforms.Compose([\n",
    "    transforms.ToPILImage(),transforms.ToTensor(),transforms.Normalize((0.5),(0.5))])\n",
    "\n",
    "img_tform_2 = transforms.Compose([\n",
    "    transforms.ToPILImage(),transforms.RandomRotation(10),transforms.ToTensor(),transforms.Normalize((0.5),(0.5))])\n",
    "\n",
    "img_tform_3 = transforms.Compose([\n",
    "    transforms.ToPILImage(),transforms.RandomRotation(20),transforms.ToTensor(),transforms.Normalize((0.5),(0.5))])\n",
    "\n",
    "img_tform_4 = transforms.Compose([\n",
    "    transforms.ToPILImage(),transforms.RandomAffine(degrees=15, translate=(0.1,0.1), scale=(0.85,0.85)),\\\n",
    "    transforms.ToTensor(),transforms.Normalize((0.5),(0.5))])\n",
    "\n",
    "img_tform_5 = transforms.Compose([\n",
    "    transforms.ToPILImage(),transforms.RandomAffine(0,shear=30,scale=[1.15,1.15]),\\\n",
    "    transforms.ToTensor(),transforms.Normalize((0.5),(0.5))])\n",
    "\n",
    "img_tform_6 = transforms.Compose([\n",
    "    transforms.ToPILImage(),transforms.RandomAffine(0,shear=20,scale=[0.8,0.8]),\\\n",
    "    transforms.ToTensor(),transforms.Normalize((0.5),(0.5))])\n",
    "\n",
    "img_tform_7 = transforms.Compose([\n",
    "    transforms.ToPILImage(),transforms.RandomAffine(degrees=30, scale=(1.2,1.2)),\\\n",
    "    transforms.ToTensor(),transforms.Normalize((0.5),(0.5))])\n",
    "\n"
   ]
  },
  {
   "cell_type": "markdown",
   "id": "innovative-reading",
   "metadata": {
    "papermill": {
     "duration": 0.020698,
     "end_time": "2021-04-22T15:00:58.713882",
     "exception": false,
     "start_time": "2021-04-22T15:00:58.693184",
     "status": "completed"
    },
    "tags": []
   },
   "source": [
    "# 5. Using the defined class and DataLoader to load data into pytorch datasets."
   ]
  },
  {
   "cell_type": "markdown",
   "id": "strange-builder",
   "metadata": {
    "papermill": {
     "duration": 0.020348,
     "end_time": "2021-04-22T15:00:58.754822",
     "exception": false,
     "start_time": "2021-04-22T15:00:58.734474",
     "status": "completed"
    },
    "tags": []
   },
   "source": [
    "We will be using the batch-size as 64 and num_workers as 4. We use the customized \"MNISTDataset\" class to convert the data from csv files into a format which is loaded into the dataloader. This is done for both train and validation datasets."
   ]
  },
  {
   "cell_type": "code",
   "execution_count": 5,
   "id": "million-configuration",
   "metadata": {
    "execution": {
     "iopub.execute_input": "2021-04-22T15:00:58.803803Z",
     "iopub.status.busy": "2021-04-22T15:00:58.803110Z",
     "iopub.status.idle": "2021-04-22T15:00:59.588035Z",
     "shell.execute_reply": "2021-04-22T15:00:59.587553Z"
    },
    "papermill": {
     "duration": 0.812683,
     "end_time": "2021-04-22T15:00:59.588167",
     "exception": false,
     "start_time": "2021-04-22T15:00:58.775484",
     "status": "completed"
    },
    "tags": []
   },
   "outputs": [],
   "source": [
    "from sklearn.model_selection import train_test_split\n",
    "seed=42\n",
    "def create_dataloaders(seed, test_size=0.1, df=train, batch_size=64):\n",
    "    # Create training set and validation set\n",
    "    train_df, val_df = train_test_split(df,test_size=test_size,random_state=seed)\n",
    "    \n",
    "    # Create Datasets\n",
    "    train_data_1 = MnistDataset(train_df)\n",
    "    train_data_2 = MnistDataset(train_df, img_tform_2)\n",
    "    train_data_3 = MnistDataset(train_df, img_tform_3)\n",
    "    train_data_4 = MnistDataset(train_df, img_tform_4)\n",
    "    train_data_5 = MnistDataset(train_df, img_tform_5)\n",
    "    train_data_6 = MnistDataset(train_df, img_tform_6)\n",
    "    train_data_7 = MnistDataset(train_df, img_tform_7)\n",
    "    train_final = ConcatDataset([train_data_1, train_data_2, train_data_3, train_data_4, train_data_5,\\\n",
    "                                   train_data_6,train_data_7])\n",
    "\n",
    "    val_data = MnistDataset(val_df)\n",
    "    \n",
    "    # Create Dataloaders\n",
    "    train_loader = torch.utils.data.DataLoader(train_final, batch_size=batch_size, shuffle=True)\n",
    "    valid_loader = torch.utils.data.DataLoader(val_data, batch_size=batch_size, shuffle=False)\n",
    "\n",
    "    return train_loader, valid_loader\n",
    "\n"
   ]
  },
  {
   "cell_type": "code",
   "execution_count": 6,
   "id": "robust-thunder",
   "metadata": {
    "execution": {
     "iopub.execute_input": "2021-04-22T15:01:00.241240Z",
     "iopub.status.busy": "2021-04-22T15:01:00.240647Z",
     "iopub.status.idle": "2021-04-22T15:01:00.245914Z",
     "shell.execute_reply": "2021-04-22T15:01:00.246470Z"
    },
    "papermill": {
     "duration": 0.637121,
     "end_time": "2021-04-22T15:01:00.246666",
     "exception": false,
     "start_time": "2021-04-22T15:00:59.609545",
     "status": "completed"
    },
    "tags": []
   },
   "outputs": [
    {
     "name": "stdout",
     "output_type": "stream",
     "text": [
      "cuda:0\n"
     ]
    }
   ],
   "source": [
    "device = torch.device('cuda:0' if torch.cuda.is_available() else 'cpu')\n",
    "print(device)"
   ]
  },
  {
   "cell_type": "markdown",
   "id": "systematic-liverpool",
   "metadata": {
    "papermill": {
     "duration": 0.021129,
     "end_time": "2021-04-22T15:01:00.290742",
     "exception": false,
     "start_time": "2021-04-22T15:01:00.269613",
     "status": "completed"
    },
    "tags": []
   },
   "source": [
    "We will be defining the classes on which we will be predicting. We are having 10 classes consisting of numbers 0-9."
   ]
  },
  {
   "cell_type": "code",
   "execution_count": 7,
   "id": "about-deadline",
   "metadata": {
    "execution": {
     "iopub.execute_input": "2021-04-22T15:01:00.339314Z",
     "iopub.status.busy": "2021-04-22T15:01:00.337581Z",
     "iopub.status.idle": "2021-04-22T15:01:00.339911Z",
     "shell.execute_reply": "2021-04-22T15:01:00.340425Z"
    },
    "papermill": {
     "duration": 0.028702,
     "end_time": "2021-04-22T15:01:00.340580",
     "exception": false,
     "start_time": "2021-04-22T15:01:00.311878",
     "status": "completed"
    },
    "tags": []
   },
   "outputs": [],
   "source": [
    "classes = [i for i in range(0,10)]"
   ]
  },
  {
   "cell_type": "markdown",
   "id": "pregnant-implement",
   "metadata": {
    "papermill": {
     "duration": 0.021516,
     "end_time": "2021-04-22T15:01:00.383429",
     "exception": false,
     "start_time": "2021-04-22T15:01:00.361913",
     "status": "completed"
    },
    "tags": []
   },
   "source": [
    "# 6. Defining the pretrained model."
   ]
  },
  {
   "cell_type": "markdown",
   "id": "mighty-piano",
   "metadata": {
    "papermill": {
     "duration": 0.02147,
     "end_time": "2021-04-22T15:01:00.427081",
     "exception": false,
     "start_time": "2021-04-22T15:01:00.405611",
     "status": "completed"
    },
    "tags": []
   },
   "source": [
    "ResNet, which was proposed in 2015 by researchers at Microsoft Research introduced a new architecture called Residual Network.\n",
    "\n",
    "Residual Block:\n",
    "In order to solve the problem of the vanishing/exploding gradient, this architecture introduced the concept called Residual Network. In this network we use a technique called skip connections . The skip connection skips training from a few layers and connects directly to the output.\n",
    "\n",
    "This network uses a 34-layer plain network architecture inspired by VGG-19 in which then the shortcut connection is added. These shortcut connections then convert the architecture into residual network. "
   ]
  },
  {
   "cell_type": "markdown",
   "id": "charged-frank",
   "metadata": {
    "papermill": {
     "duration": 0.022912,
     "end_time": "2021-04-22T15:01:00.472023",
     "exception": false,
     "start_time": "2021-04-22T15:01:00.449111",
     "status": "completed"
    },
    "tags": []
   },
   "source": [
    "![](https://media.geeksforgeeks.org/wp-content/uploads/20200424011138/ResNet.PNG)"
   ]
  },
  {
   "cell_type": "markdown",
   "id": "invisible-necklace",
   "metadata": {
    "papermill": {
     "duration": 0.022896,
     "end_time": "2021-04-22T15:01:00.520729",
     "exception": false,
     "start_time": "2021-04-22T15:01:00.497833",
     "status": "completed"
    },
    "tags": []
   },
   "source": [
    "We tune the number of channels in the first layer of the ResNet to suit the images present in the dataset.\n",
    "We also add a fully connected layer at the end of the network architecture to make the prediction."
   ]
  },
  {
   "cell_type": "code",
   "execution_count": 8,
   "id": "different-prairie",
   "metadata": {
    "execution": {
     "iopub.execute_input": "2021-04-22T15:01:00.575088Z",
     "iopub.status.busy": "2021-04-22T15:01:00.574534Z",
     "iopub.status.idle": "2021-04-22T15:01:06.203234Z",
     "shell.execute_reply": "2021-04-22T15:01:06.202775Z"
    },
    "papermill": {
     "duration": 5.659113,
     "end_time": "2021-04-22T15:01:06.203364",
     "exception": false,
     "start_time": "2021-04-22T15:01:00.544251",
     "status": "completed"
    },
    "tags": []
   },
   "outputs": [
    {
     "name": "stderr",
     "output_type": "stream",
     "text": [
      "Downloading: \"https://download.pytorch.org/models/resnet34-333f7ec4.pth\" to /root/.cache/torch/hub/checkpoints/resnet34-333f7ec4.pth\n"
     ]
    },
    {
     "data": {
      "application/vnd.jupyter.widget-view+json": {
       "model_id": "e06ef00ce8954ea69585daaf0e0663b8",
       "version_major": 2,
       "version_minor": 0
      },
      "text/plain": [
       "  0%|          | 0.00/83.3M [00:00<?, ?B/s]"
      ]
     },
     "metadata": {},
     "output_type": "display_data"
    }
   ],
   "source": [
    "model = models.resnet34(pretrained=True)\n",
    "model.conv1 = torch.nn.Conv1d(1, 64, (3, 3), (1, 1), (1, 1), bias=False)\n",
    "num_ftrs = model.fc.in_features\n",
    "model.fc = nn.Linear(num_ftrs, 10)"
   ]
  },
  {
   "cell_type": "code",
   "execution_count": 9,
   "id": "quarterly-purse",
   "metadata": {
    "execution": {
     "iopub.execute_input": "2021-04-22T15:01:06.255572Z",
     "iopub.status.busy": "2021-04-22T15:01:06.254661Z",
     "iopub.status.idle": "2021-04-22T15:01:06.259446Z",
     "shell.execute_reply": "2021-04-22T15:01:06.259022Z"
    },
    "papermill": {
     "duration": 0.033681,
     "end_time": "2021-04-22T15:01:06.259570",
     "exception": false,
     "start_time": "2021-04-22T15:01:06.225889",
     "status": "completed"
    },
    "tags": []
   },
   "outputs": [
    {
     "data": {
      "text/plain": [
       "ResNet(\n",
       "  (conv1): Conv1d(1, 64, kernel_size=(3, 3), stride=(1, 1), padding=(1, 1), bias=False)\n",
       "  (bn1): BatchNorm2d(64, eps=1e-05, momentum=0.1, affine=True, track_running_stats=True)\n",
       "  (relu): ReLU(inplace=True)\n",
       "  (maxpool): MaxPool2d(kernel_size=3, stride=2, padding=1, dilation=1, ceil_mode=False)\n",
       "  (layer1): Sequential(\n",
       "    (0): BasicBlock(\n",
       "      (conv1): Conv2d(64, 64, kernel_size=(3, 3), stride=(1, 1), padding=(1, 1), bias=False)\n",
       "      (bn1): BatchNorm2d(64, eps=1e-05, momentum=0.1, affine=True, track_running_stats=True)\n",
       "      (relu): ReLU(inplace=True)\n",
       "      (conv2): Conv2d(64, 64, kernel_size=(3, 3), stride=(1, 1), padding=(1, 1), bias=False)\n",
       "      (bn2): BatchNorm2d(64, eps=1e-05, momentum=0.1, affine=True, track_running_stats=True)\n",
       "    )\n",
       "    (1): BasicBlock(\n",
       "      (conv1): Conv2d(64, 64, kernel_size=(3, 3), stride=(1, 1), padding=(1, 1), bias=False)\n",
       "      (bn1): BatchNorm2d(64, eps=1e-05, momentum=0.1, affine=True, track_running_stats=True)\n",
       "      (relu): ReLU(inplace=True)\n",
       "      (conv2): Conv2d(64, 64, kernel_size=(3, 3), stride=(1, 1), padding=(1, 1), bias=False)\n",
       "      (bn2): BatchNorm2d(64, eps=1e-05, momentum=0.1, affine=True, track_running_stats=True)\n",
       "    )\n",
       "    (2): BasicBlock(\n",
       "      (conv1): Conv2d(64, 64, kernel_size=(3, 3), stride=(1, 1), padding=(1, 1), bias=False)\n",
       "      (bn1): BatchNorm2d(64, eps=1e-05, momentum=0.1, affine=True, track_running_stats=True)\n",
       "      (relu): ReLU(inplace=True)\n",
       "      (conv2): Conv2d(64, 64, kernel_size=(3, 3), stride=(1, 1), padding=(1, 1), bias=False)\n",
       "      (bn2): BatchNorm2d(64, eps=1e-05, momentum=0.1, affine=True, track_running_stats=True)\n",
       "    )\n",
       "  )\n",
       "  (layer2): Sequential(\n",
       "    (0): BasicBlock(\n",
       "      (conv1): Conv2d(64, 128, kernel_size=(3, 3), stride=(2, 2), padding=(1, 1), bias=False)\n",
       "      (bn1): BatchNorm2d(128, eps=1e-05, momentum=0.1, affine=True, track_running_stats=True)\n",
       "      (relu): ReLU(inplace=True)\n",
       "      (conv2): Conv2d(128, 128, kernel_size=(3, 3), stride=(1, 1), padding=(1, 1), bias=False)\n",
       "      (bn2): BatchNorm2d(128, eps=1e-05, momentum=0.1, affine=True, track_running_stats=True)\n",
       "      (downsample): Sequential(\n",
       "        (0): Conv2d(64, 128, kernel_size=(1, 1), stride=(2, 2), bias=False)\n",
       "        (1): BatchNorm2d(128, eps=1e-05, momentum=0.1, affine=True, track_running_stats=True)\n",
       "      )\n",
       "    )\n",
       "    (1): BasicBlock(\n",
       "      (conv1): Conv2d(128, 128, kernel_size=(3, 3), stride=(1, 1), padding=(1, 1), bias=False)\n",
       "      (bn1): BatchNorm2d(128, eps=1e-05, momentum=0.1, affine=True, track_running_stats=True)\n",
       "      (relu): ReLU(inplace=True)\n",
       "      (conv2): Conv2d(128, 128, kernel_size=(3, 3), stride=(1, 1), padding=(1, 1), bias=False)\n",
       "      (bn2): BatchNorm2d(128, eps=1e-05, momentum=0.1, affine=True, track_running_stats=True)\n",
       "    )\n",
       "    (2): BasicBlock(\n",
       "      (conv1): Conv2d(128, 128, kernel_size=(3, 3), stride=(1, 1), padding=(1, 1), bias=False)\n",
       "      (bn1): BatchNorm2d(128, eps=1e-05, momentum=0.1, affine=True, track_running_stats=True)\n",
       "      (relu): ReLU(inplace=True)\n",
       "      (conv2): Conv2d(128, 128, kernel_size=(3, 3), stride=(1, 1), padding=(1, 1), bias=False)\n",
       "      (bn2): BatchNorm2d(128, eps=1e-05, momentum=0.1, affine=True, track_running_stats=True)\n",
       "    )\n",
       "    (3): BasicBlock(\n",
       "      (conv1): Conv2d(128, 128, kernel_size=(3, 3), stride=(1, 1), padding=(1, 1), bias=False)\n",
       "      (bn1): BatchNorm2d(128, eps=1e-05, momentum=0.1, affine=True, track_running_stats=True)\n",
       "      (relu): ReLU(inplace=True)\n",
       "      (conv2): Conv2d(128, 128, kernel_size=(3, 3), stride=(1, 1), padding=(1, 1), bias=False)\n",
       "      (bn2): BatchNorm2d(128, eps=1e-05, momentum=0.1, affine=True, track_running_stats=True)\n",
       "    )\n",
       "  )\n",
       "  (layer3): Sequential(\n",
       "    (0): BasicBlock(\n",
       "      (conv1): Conv2d(128, 256, kernel_size=(3, 3), stride=(2, 2), padding=(1, 1), bias=False)\n",
       "      (bn1): BatchNorm2d(256, eps=1e-05, momentum=0.1, affine=True, track_running_stats=True)\n",
       "      (relu): ReLU(inplace=True)\n",
       "      (conv2): Conv2d(256, 256, kernel_size=(3, 3), stride=(1, 1), padding=(1, 1), bias=False)\n",
       "      (bn2): BatchNorm2d(256, eps=1e-05, momentum=0.1, affine=True, track_running_stats=True)\n",
       "      (downsample): Sequential(\n",
       "        (0): Conv2d(128, 256, kernel_size=(1, 1), stride=(2, 2), bias=False)\n",
       "        (1): BatchNorm2d(256, eps=1e-05, momentum=0.1, affine=True, track_running_stats=True)\n",
       "      )\n",
       "    )\n",
       "    (1): BasicBlock(\n",
       "      (conv1): Conv2d(256, 256, kernel_size=(3, 3), stride=(1, 1), padding=(1, 1), bias=False)\n",
       "      (bn1): BatchNorm2d(256, eps=1e-05, momentum=0.1, affine=True, track_running_stats=True)\n",
       "      (relu): ReLU(inplace=True)\n",
       "      (conv2): Conv2d(256, 256, kernel_size=(3, 3), stride=(1, 1), padding=(1, 1), bias=False)\n",
       "      (bn2): BatchNorm2d(256, eps=1e-05, momentum=0.1, affine=True, track_running_stats=True)\n",
       "    )\n",
       "    (2): BasicBlock(\n",
       "      (conv1): Conv2d(256, 256, kernel_size=(3, 3), stride=(1, 1), padding=(1, 1), bias=False)\n",
       "      (bn1): BatchNorm2d(256, eps=1e-05, momentum=0.1, affine=True, track_running_stats=True)\n",
       "      (relu): ReLU(inplace=True)\n",
       "      (conv2): Conv2d(256, 256, kernel_size=(3, 3), stride=(1, 1), padding=(1, 1), bias=False)\n",
       "      (bn2): BatchNorm2d(256, eps=1e-05, momentum=0.1, affine=True, track_running_stats=True)\n",
       "    )\n",
       "    (3): BasicBlock(\n",
       "      (conv1): Conv2d(256, 256, kernel_size=(3, 3), stride=(1, 1), padding=(1, 1), bias=False)\n",
       "      (bn1): BatchNorm2d(256, eps=1e-05, momentum=0.1, affine=True, track_running_stats=True)\n",
       "      (relu): ReLU(inplace=True)\n",
       "      (conv2): Conv2d(256, 256, kernel_size=(3, 3), stride=(1, 1), padding=(1, 1), bias=False)\n",
       "      (bn2): BatchNorm2d(256, eps=1e-05, momentum=0.1, affine=True, track_running_stats=True)\n",
       "    )\n",
       "    (4): BasicBlock(\n",
       "      (conv1): Conv2d(256, 256, kernel_size=(3, 3), stride=(1, 1), padding=(1, 1), bias=False)\n",
       "      (bn1): BatchNorm2d(256, eps=1e-05, momentum=0.1, affine=True, track_running_stats=True)\n",
       "      (relu): ReLU(inplace=True)\n",
       "      (conv2): Conv2d(256, 256, kernel_size=(3, 3), stride=(1, 1), padding=(1, 1), bias=False)\n",
       "      (bn2): BatchNorm2d(256, eps=1e-05, momentum=0.1, affine=True, track_running_stats=True)\n",
       "    )\n",
       "    (5): BasicBlock(\n",
       "      (conv1): Conv2d(256, 256, kernel_size=(3, 3), stride=(1, 1), padding=(1, 1), bias=False)\n",
       "      (bn1): BatchNorm2d(256, eps=1e-05, momentum=0.1, affine=True, track_running_stats=True)\n",
       "      (relu): ReLU(inplace=True)\n",
       "      (conv2): Conv2d(256, 256, kernel_size=(3, 3), stride=(1, 1), padding=(1, 1), bias=False)\n",
       "      (bn2): BatchNorm2d(256, eps=1e-05, momentum=0.1, affine=True, track_running_stats=True)\n",
       "    )\n",
       "  )\n",
       "  (layer4): Sequential(\n",
       "    (0): BasicBlock(\n",
       "      (conv1): Conv2d(256, 512, kernel_size=(3, 3), stride=(2, 2), padding=(1, 1), bias=False)\n",
       "      (bn1): BatchNorm2d(512, eps=1e-05, momentum=0.1, affine=True, track_running_stats=True)\n",
       "      (relu): ReLU(inplace=True)\n",
       "      (conv2): Conv2d(512, 512, kernel_size=(3, 3), stride=(1, 1), padding=(1, 1), bias=False)\n",
       "      (bn2): BatchNorm2d(512, eps=1e-05, momentum=0.1, affine=True, track_running_stats=True)\n",
       "      (downsample): Sequential(\n",
       "        (0): Conv2d(256, 512, kernel_size=(1, 1), stride=(2, 2), bias=False)\n",
       "        (1): BatchNorm2d(512, eps=1e-05, momentum=0.1, affine=True, track_running_stats=True)\n",
       "      )\n",
       "    )\n",
       "    (1): BasicBlock(\n",
       "      (conv1): Conv2d(512, 512, kernel_size=(3, 3), stride=(1, 1), padding=(1, 1), bias=False)\n",
       "      (bn1): BatchNorm2d(512, eps=1e-05, momentum=0.1, affine=True, track_running_stats=True)\n",
       "      (relu): ReLU(inplace=True)\n",
       "      (conv2): Conv2d(512, 512, kernel_size=(3, 3), stride=(1, 1), padding=(1, 1), bias=False)\n",
       "      (bn2): BatchNorm2d(512, eps=1e-05, momentum=0.1, affine=True, track_running_stats=True)\n",
       "    )\n",
       "    (2): BasicBlock(\n",
       "      (conv1): Conv2d(512, 512, kernel_size=(3, 3), stride=(1, 1), padding=(1, 1), bias=False)\n",
       "      (bn1): BatchNorm2d(512, eps=1e-05, momentum=0.1, affine=True, track_running_stats=True)\n",
       "      (relu): ReLU(inplace=True)\n",
       "      (conv2): Conv2d(512, 512, kernel_size=(3, 3), stride=(1, 1), padding=(1, 1), bias=False)\n",
       "      (bn2): BatchNorm2d(512, eps=1e-05, momentum=0.1, affine=True, track_running_stats=True)\n",
       "    )\n",
       "  )\n",
       "  (avgpool): AdaptiveAvgPool2d(output_size=(1, 1))\n",
       "  (fc): Linear(in_features=512, out_features=10, bias=True)\n",
       ")"
      ]
     },
     "execution_count": 9,
     "metadata": {},
     "output_type": "execute_result"
    }
   ],
   "source": [
    "model"
   ]
  },
  {
   "cell_type": "markdown",
   "id": "alive-destruction",
   "metadata": {
    "papermill": {
     "duration": 0.022456,
     "end_time": "2021-04-22T15:01:06.304661",
     "exception": false,
     "start_time": "2021-04-22T15:01:06.282205",
     "status": "completed"
    },
    "tags": []
   },
   "source": [
    "# 7. Defining the loss function and optimizer."
   ]
  },
  {
   "cell_type": "markdown",
   "id": "christian-isaac",
   "metadata": {
    "papermill": {
     "duration": 0.022729,
     "end_time": "2021-04-22T15:01:06.350482",
     "exception": false,
     "start_time": "2021-04-22T15:01:06.327753",
     "status": "completed"
    },
    "tags": []
   },
   "source": [
    "We are using a \"CrossEntropy\" loss function and an \"Adam\" optimizer while training the model.\n",
    "We also use a scheduler which decays the learning rate of each parameter group by gamma every step_size epochs. Notice that such decay can happen simultaneously with other changes to the learning rate from outside this scheduler."
   ]
  },
  {
   "cell_type": "code",
   "execution_count": 10,
   "id": "fallen-copyright",
   "metadata": {
    "execution": {
     "iopub.execute_input": "2021-04-22T15:01:06.405361Z",
     "iopub.status.busy": "2021-04-22T15:01:06.404730Z",
     "iopub.status.idle": "2021-04-22T15:01:10.443695Z",
     "shell.execute_reply": "2021-04-22T15:01:10.444235Z"
    },
    "papermill": {
     "duration": 4.071249,
     "end_time": "2021-04-22T15:01:10.444444",
     "exception": false,
     "start_time": "2021-04-22T15:01:06.373195",
     "status": "completed"
    },
    "tags": []
   },
   "outputs": [
    {
     "name": "stdout",
     "output_type": "stream",
     "text": [
      "Adjusting learning rate of group 0 to 1.0000e-03.\n"
     ]
    }
   ],
   "source": [
    "if torch.cuda.is_available():\n",
    "    model.cuda()\n",
    "    \n",
    "import torch.optim as optim\n",
    "criterion = nn.CrossEntropyLoss()\n",
    "optimizer = optim.Adam(model.parameters(),amsgrad=True)\n",
    "xp_lr_scheduler = torch.optim.lr_scheduler.StepLR(optimizer, step_size=3, gamma=0.1, verbose=True)"
   ]
  },
  {
   "cell_type": "markdown",
   "id": "durable-liberty",
   "metadata": {
    "papermill": {
     "duration": 0.022929,
     "end_time": "2021-04-22T15:01:10.491466",
     "exception": false,
     "start_time": "2021-04-22T15:01:10.468537",
     "status": "completed"
    },
    "tags": []
   },
   "source": [
    "# 8. Training the defined network."
   ]
  },
  {
   "cell_type": "markdown",
   "id": "cathedral-satisfaction",
   "metadata": {
    "papermill": {
     "duration": 0.022882,
     "end_time": "2021-04-22T15:01:10.537639",
     "exception": false,
     "start_time": "2021-04-22T15:01:10.514757",
     "status": "completed"
    },
    "tags": []
   },
   "source": [
    "We will be training our network on 10 epochs."
   ]
  },
  {
   "cell_type": "code",
   "execution_count": 11,
   "id": "owned-conversion",
   "metadata": {
    "execution": {
     "iopub.execute_input": "2021-04-22T15:01:10.601699Z",
     "iopub.status.busy": "2021-04-22T15:01:10.600845Z",
     "iopub.status.idle": "2021-04-22T16:32:47.801180Z",
     "shell.execute_reply": "2021-04-22T16:32:47.780263Z"
    },
    "papermill": {
     "duration": 5497.240202,
     "end_time": "2021-04-22T16:32:47.801351",
     "exception": false,
     "start_time": "2021-04-22T15:01:10.561149",
     "status": "completed"
    },
    "tags": []
   },
   "outputs": [
    {
     "name": "stderr",
     "output_type": "stream",
     "text": [
      "100%|██████████| 4135/4135 [04:24<00:00, 15.60batch/s]\n",
      " 12%|█▏        | 8/66 [00:00<00:00, 70.78batch/s]"
     ]
    },
    {
     "name": "stdout",
     "output_type": "stream",
     "text": [
      "Adjusting learning rate of group 0 to 1.0000e-03.\n"
     ]
    },
    {
     "name": "stderr",
     "output_type": "stream",
     "text": [
      "100%|██████████| 66/66 [00:00<00:00, 72.87batch/s]\n"
     ]
    },
    {
     "name": "stdout",
     "output_type": "stream",
     "text": [
      "epoch:0\t  training_loss:0.07623350698113196\t  validation_loss:0.02449158731156565\t  train_accuracy:97.73998488284202\t  validation_accuracy:99.21428571428571\n",
      "Validation loss decreased (inf --> 0.024492).  Saving model ...\n"
     ]
    },
    {
     "name": "stderr",
     "output_type": "stream",
     "text": [
      "100%|██████████| 4135/4135 [04:26<00:00, 15.53batch/s]\n",
      " 11%|█         | 7/66 [00:00<00:00, 69.15batch/s]"
     ]
    },
    {
     "name": "stdout",
     "output_type": "stream",
     "text": [
      "Adjusting learning rate of group 0 to 1.0000e-03.\n"
     ]
    },
    {
     "name": "stderr",
     "output_type": "stream",
     "text": [
      "100%|██████████| 66/66 [00:00<00:00, 72.62batch/s]\n"
     ]
    },
    {
     "name": "stdout",
     "output_type": "stream",
     "text": [
      "epoch:1\t  training_loss:0.050219204094864266\t  validation_loss:0.023111874389349286\t  train_accuracy:99.24565381708238\t  validation_accuracy:99.38095238095238\n",
      "Validation loss decreased (0.024492 --> 0.023112).  Saving model ...\n"
     ]
    },
    {
     "name": "stderr",
     "output_type": "stream",
     "text": [
      "100%|██████████| 4135/4135 [04:28<00:00, 15.41batch/s]\n",
      " 12%|█▏        | 8/66 [00:00<00:00, 73.37batch/s]"
     ]
    },
    {
     "name": "stdout",
     "output_type": "stream",
     "text": [
      "Adjusting learning rate of group 0 to 1.0000e-04.\n"
     ]
    },
    {
     "name": "stderr",
     "output_type": "stream",
     "text": [
      "100%|██████████| 66/66 [00:00<00:00, 72.71batch/s]\n",
      "  0%|          | 2/4135 [00:00<04:50, 14.21batch/s]"
     ]
    },
    {
     "name": "stdout",
     "output_type": "stream",
     "text": [
      "epoch:2\t  training_loss:0.03948204159365803\t  validation_loss:0.025416045956198372\t  train_accuracy:99.45993953136811\t  validation_accuracy:99.0952380952381\n"
     ]
    },
    {
     "name": "stderr",
     "output_type": "stream",
     "text": [
      "100%|██████████| 4135/4135 [04:31<00:00, 15.23batch/s]\n",
      " 12%|█▏        | 8/66 [00:00<00:00, 72.82batch/s]"
     ]
    },
    {
     "name": "stdout",
     "output_type": "stream",
     "text": [
      "Adjusting learning rate of group 0 to 1.0000e-04.\n"
     ]
    },
    {
     "name": "stderr",
     "output_type": "stream",
     "text": [
      "100%|██████████| 66/66 [00:00<00:00, 72.51batch/s]\n"
     ]
    },
    {
     "name": "stdout",
     "output_type": "stream",
     "text": [
      "epoch:3\t  training_loss:0.03239447287690095\t  validation_loss:0.022216833485730825\t  train_accuracy:99.66250944822373\t  validation_accuracy:99.54761904761905\n",
      "Validation loss decreased (0.023112 --> 0.022217).  Saving model ...\n"
     ]
    },
    {
     "name": "stderr",
     "output_type": "stream",
     "text": [
      "100%|██████████| 4135/4135 [04:34<00:00, 15.05batch/s]\n",
      " 12%|█▏        | 8/66 [00:00<00:00, 73.36batch/s]"
     ]
    },
    {
     "name": "stdout",
     "output_type": "stream",
     "text": [
      "Adjusting learning rate of group 0 to 1.0000e-04.\n"
     ]
    },
    {
     "name": "stderr",
     "output_type": "stream",
     "text": [
      "100%|██████████| 66/66 [00:00<00:00, 72.95batch/s]\n"
     ]
    },
    {
     "name": "stdout",
     "output_type": "stream",
     "text": [
      "epoch:4\t  training_loss:0.027443658599709514\t  validation_loss:0.020271428661594242\t  train_accuracy:99.76001511715798\t  validation_accuracy:99.5952380952381\n",
      "Validation loss decreased (0.022217 --> 0.020271).  Saving model ...\n"
     ]
    },
    {
     "name": "stderr",
     "output_type": "stream",
     "text": [
      "100%|██████████| 4135/4135 [04:34<00:00, 15.06batch/s]\n",
      " 12%|█▏        | 8/66 [00:00<00:00, 71.62batch/s]"
     ]
    },
    {
     "name": "stdout",
     "output_type": "stream",
     "text": [
      "Adjusting learning rate of group 0 to 1.0000e-05.\n"
     ]
    },
    {
     "name": "stderr",
     "output_type": "stream",
     "text": [
      "100%|██████████| 66/66 [00:00<00:00, 72.59batch/s]\n"
     ]
    },
    {
     "name": "stdout",
     "output_type": "stream",
     "text": [
      "epoch:5\t  training_loss:0.023996905455443456\t  validation_loss:0.019040364907366415\t  train_accuracy:99.79024943310658\t  validation_accuracy:99.57142857142857\n",
      "Validation loss decreased (0.020271 --> 0.019040).  Saving model ...\n"
     ]
    },
    {
     "name": "stderr",
     "output_type": "stream",
     "text": [
      "100%|██████████| 4135/4135 [04:35<00:00, 15.00batch/s]\n",
      " 12%|█▏        | 8/66 [00:00<00:00, 70.77batch/s]"
     ]
    },
    {
     "name": "stdout",
     "output_type": "stream",
     "text": [
      "Adjusting learning rate of group 0 to 1.0000e-05.\n"
     ]
    },
    {
     "name": "stderr",
     "output_type": "stream",
     "text": [
      "100%|██████████| 66/66 [00:00<00:00, 71.28batch/s]\n"
     ]
    },
    {
     "name": "stdout",
     "output_type": "stream",
     "text": [
      "epoch:6\t  training_loss:0.021426629329270447\t  validation_loss:0.018136488889172436\t  train_accuracy:99.81746031746032\t  validation_accuracy:99.5952380952381\n",
      "Validation loss decreased (0.019040 --> 0.018136).  Saving model ...\n"
     ]
    },
    {
     "name": "stderr",
     "output_type": "stream",
     "text": [
      "100%|██████████| 4135/4135 [04:37<00:00, 14.89batch/s]\n",
      " 12%|█▏        | 8/66 [00:00<00:00, 72.09batch/s]"
     ]
    },
    {
     "name": "stdout",
     "output_type": "stream",
     "text": [
      "Adjusting learning rate of group 0 to 1.0000e-05.\n"
     ]
    },
    {
     "name": "stderr",
     "output_type": "stream",
     "text": [
      "100%|██████████| 66/66 [00:00<00:00, 72.65batch/s]\n"
     ]
    },
    {
     "name": "stdout",
     "output_type": "stream",
     "text": [
      "epoch:7\t  training_loss:0.019488839815034294\t  validation_loss:0.017442577633584155\t  train_accuracy:99.81481481481481\t  validation_accuracy:99.5952380952381\n",
      "Validation loss decreased (0.018136 --> 0.017443).  Saving model ...\n"
     ]
    },
    {
     "name": "stderr",
     "output_type": "stream",
     "text": [
      "100%|██████████| 4135/4135 [04:34<00:00, 15.07batch/s]\n",
      " 12%|█▏        | 8/66 [00:00<00:00, 72.02batch/s]"
     ]
    },
    {
     "name": "stdout",
     "output_type": "stream",
     "text": [
      "Adjusting learning rate of group 0 to 1.0000e-06.\n"
     ]
    },
    {
     "name": "stderr",
     "output_type": "stream",
     "text": [
      "100%|██████████| 66/66 [00:01<00:00, 63.38batch/s]\n"
     ]
    },
    {
     "name": "stdout",
     "output_type": "stream",
     "text": [
      "epoch:8\t  training_loss:0.017931163504182827\t  validation_loss:0.01695903132080618\t  train_accuracy:99.83862433862434\t  validation_accuracy:99.54761904761905\n",
      "Validation loss decreased (0.017443 --> 0.016959).  Saving model ...\n"
     ]
    },
    {
     "name": "stderr",
     "output_type": "stream",
     "text": [
      "100%|██████████| 4135/4135 [04:30<00:00, 15.31batch/s]\n",
      " 12%|█▏        | 8/66 [00:00<00:00, 71.59batch/s]"
     ]
    },
    {
     "name": "stdout",
     "output_type": "stream",
     "text": [
      "Adjusting learning rate of group 0 to 1.0000e-06.\n"
     ]
    },
    {
     "name": "stderr",
     "output_type": "stream",
     "text": [
      "100%|██████████| 66/66 [00:00<00:00, 73.12batch/s]\n"
     ]
    },
    {
     "name": "stdout",
     "output_type": "stream",
     "text": [
      "epoch:9\t  training_loss:0.016697465174585563\t  validation_loss:0.01651473297219623\t  train_accuracy:99.8219954648526\t  validation_accuracy:99.5952380952381\n",
      "Validation loss decreased (0.016959 --> 0.016515).  Saving model ...\n"
     ]
    },
    {
     "name": "stderr",
     "output_type": "stream",
     "text": [
      "100%|██████████| 4135/4135 [04:31<00:00, 15.21batch/s]\n",
      " 12%|█▏        | 8/66 [00:00<00:00, 71.77batch/s]"
     ]
    },
    {
     "name": "stdout",
     "output_type": "stream",
     "text": [
      "Adjusting learning rate of group 0 to 1.0000e-06.\n"
     ]
    },
    {
     "name": "stderr",
     "output_type": "stream",
     "text": [
      "100%|██████████| 66/66 [00:00<00:00, 72.75batch/s]\n"
     ]
    },
    {
     "name": "stdout",
     "output_type": "stream",
     "text": [
      "epoch:10\t  training_loss:0.015711076628007376\t  validation_loss:0.01618532569191102\t  train_accuracy:99.82615268329555\t  validation_accuracy:99.57142857142857\n",
      "Validation loss decreased (0.016515 --> 0.016185).  Saving model ...\n"
     ]
    },
    {
     "name": "stderr",
     "output_type": "stream",
     "text": [
      "100%|██████████| 4135/4135 [04:28<00:00, 15.40batch/s]\n",
      " 12%|█▏        | 8/66 [00:00<00:00, 71.83batch/s]"
     ]
    },
    {
     "name": "stdout",
     "output_type": "stream",
     "text": [
      "Adjusting learning rate of group 0 to 1.0000e-07.\n"
     ]
    },
    {
     "name": "stderr",
     "output_type": "stream",
     "text": [
      "100%|██████████| 66/66 [00:00<00:00, 71.92batch/s]\n"
     ]
    },
    {
     "name": "stdout",
     "output_type": "stream",
     "text": [
      "epoch:11\t  training_loss:0.014884248094377342\t  validation_loss:0.01587656756694769\t  train_accuracy:99.8219954648526\t  validation_accuracy:99.57142857142857\n",
      "Validation loss decreased (0.016185 --> 0.015877).  Saving model ...\n"
     ]
    },
    {
     "name": "stderr",
     "output_type": "stream",
     "text": [
      "100%|██████████| 4135/4135 [04:35<00:00, 15.03batch/s]\n",
      " 12%|█▏        | 8/66 [00:00<00:00, 71.43batch/s]"
     ]
    },
    {
     "name": "stdout",
     "output_type": "stream",
     "text": [
      "Adjusting learning rate of group 0 to 1.0000e-07.\n"
     ]
    },
    {
     "name": "stderr",
     "output_type": "stream",
     "text": [
      "100%|██████████| 66/66 [00:01<00:00, 64.47batch/s]\n"
     ]
    },
    {
     "name": "stdout",
     "output_type": "stream",
     "text": [
      "epoch:12\t  training_loss:0.014163395239472838\t  validation_loss:0.015628162892822636\t  train_accuracy:99.83749055177627\t  validation_accuracy:99.5952380952381\n",
      "Validation loss decreased (0.015877 --> 0.015628).  Saving model ...\n"
     ]
    },
    {
     "name": "stderr",
     "output_type": "stream",
     "text": [
      "100%|██████████| 4135/4135 [04:35<00:00, 15.00batch/s]\n",
      " 12%|█▏        | 8/66 [00:00<00:00, 71.65batch/s]"
     ]
    },
    {
     "name": "stdout",
     "output_type": "stream",
     "text": [
      "Adjusting learning rate of group 0 to 1.0000e-07.\n"
     ]
    },
    {
     "name": "stderr",
     "output_type": "stream",
     "text": [
      "100%|██████████| 66/66 [00:00<00:00, 72.51batch/s]\n"
     ]
    },
    {
     "name": "stdout",
     "output_type": "stream",
     "text": [
      "epoch:13\t  training_loss:0.013545553254961176\t  validation_loss:0.01541906910208985\t  train_accuracy:99.83144368858655\t  validation_accuracy:99.5952380952381\n",
      "Validation loss decreased (0.015628 --> 0.015419).  Saving model ...\n"
     ]
    },
    {
     "name": "stderr",
     "output_type": "stream",
     "text": [
      "100%|██████████| 4135/4135 [04:41<00:00, 14.68batch/s]\n",
      " 12%|█▏        | 8/66 [00:00<00:00, 72.43batch/s]"
     ]
    },
    {
     "name": "stdout",
     "output_type": "stream",
     "text": [
      "Adjusting learning rate of group 0 to 1.0000e-08.\n"
     ]
    },
    {
     "name": "stderr",
     "output_type": "stream",
     "text": [
      "100%|██████████| 66/66 [00:00<00:00, 72.45batch/s]\n"
     ]
    },
    {
     "name": "stdout",
     "output_type": "stream",
     "text": [
      "epoch:14\t  training_loss:0.013002836567196106\t  validation_loss:0.015232527414914468\t  train_accuracy:99.82615268329555\t  validation_accuracy:99.54761904761905\n",
      "Validation loss decreased (0.015419 --> 0.015233).  Saving model ...\n"
     ]
    },
    {
     "name": "stderr",
     "output_type": "stream",
     "text": [
      "100%|██████████| 4135/4135 [04:37<00:00, 14.90batch/s]\n",
      " 12%|█▏        | 8/66 [00:00<00:00, 71.78batch/s]"
     ]
    },
    {
     "name": "stdout",
     "output_type": "stream",
     "text": [
      "Adjusting learning rate of group 0 to 1.0000e-08.\n"
     ]
    },
    {
     "name": "stderr",
     "output_type": "stream",
     "text": [
      "100%|██████████| 66/66 [00:00<00:00, 72.00batch/s]\n"
     ]
    },
    {
     "name": "stdout",
     "output_type": "stream",
     "text": [
      "epoch:15\t  training_loss:0.012547344218724278\t  validation_loss:0.015070692632012637\t  train_accuracy:99.81897203325775\t  validation_accuracy:99.52380952380952\n",
      "Validation loss decreased (0.015233 --> 0.015071).  Saving model ...\n"
     ]
    },
    {
     "name": "stderr",
     "output_type": "stream",
     "text": [
      "100%|██████████| 4135/4135 [04:36<00:00, 14.96batch/s]\n",
      "  9%|▉         | 6/66 [00:00<00:01, 57.30batch/s]"
     ]
    },
    {
     "name": "stdout",
     "output_type": "stream",
     "text": [
      "Adjusting learning rate of group 0 to 1.0000e-08.\n"
     ]
    },
    {
     "name": "stderr",
     "output_type": "stream",
     "text": [
      "100%|██████████| 66/66 [00:01<00:00, 60.68batch/s]\n"
     ]
    },
    {
     "name": "stdout",
     "output_type": "stream",
     "text": [
      "epoch:16\t  training_loss:0.012143178220220551\t  validation_loss:0.014936554048624385\t  train_accuracy:99.82766439909297\t  validation_accuracy:99.5952380952381\n",
      "Validation loss decreased (0.015071 --> 0.014937).  Saving model ...\n"
     ]
    },
    {
     "name": "stderr",
     "output_type": "stream",
     "text": [
      "100%|██████████| 4135/4135 [04:31<00:00, 15.25batch/s]\n",
      " 11%|█         | 7/66 [00:00<00:00, 61.54batch/s]"
     ]
    },
    {
     "name": "stdout",
     "output_type": "stream",
     "text": [
      "Adjusting learning rate of group 0 to 1.0000e-09.\n"
     ]
    },
    {
     "name": "stderr",
     "output_type": "stream",
     "text": [
      "100%|██████████| 66/66 [00:01<00:00, 61.09batch/s]\n"
     ]
    },
    {
     "name": "stdout",
     "output_type": "stream",
     "text": [
      "epoch:17\t  training_loss:0.011780567104185282\t  validation_loss:0.014813967175875407\t  train_accuracy:99.82955404383976\t  validation_accuracy:99.57142857142857\n",
      "Validation loss decreased (0.014937 --> 0.014814).  Saving model ...\n"
     ]
    },
    {
     "name": "stderr",
     "output_type": "stream",
     "text": [
      "100%|██████████| 4135/4135 [04:35<00:00, 15.01batch/s]\n",
      " 11%|█         | 7/66 [00:00<00:00, 61.76batch/s]"
     ]
    },
    {
     "name": "stdout",
     "output_type": "stream",
     "text": [
      "Adjusting learning rate of group 0 to 1.0000e-09.\n"
     ]
    },
    {
     "name": "stderr",
     "output_type": "stream",
     "text": [
      "100%|██████████| 66/66 [00:01<00:00, 61.28batch/s]\n"
     ]
    },
    {
     "name": "stdout",
     "output_type": "stream",
     "text": [
      "epoch:18\t  training_loss:0.011453769357454015\t  validation_loss:0.014708180636080795\t  train_accuracy:99.82577475434618\t  validation_accuracy:99.5952380952381\n",
      "Validation loss decreased (0.014814 --> 0.014708).  Saving model ...\n"
     ]
    },
    {
     "name": "stderr",
     "output_type": "stream",
     "text": [
      "100%|██████████| 4135/4135 [04:30<00:00, 15.28batch/s]\n",
      " 11%|█         | 7/66 [00:00<00:00, 61.71batch/s]"
     ]
    },
    {
     "name": "stdout",
     "output_type": "stream",
     "text": [
      "Adjusting learning rate of group 0 to 1.0000e-09.\n"
     ]
    },
    {
     "name": "stderr",
     "output_type": "stream",
     "text": [
      "100%|██████████| 66/66 [00:01<00:00, 60.87batch/s]\n"
     ]
    },
    {
     "name": "stdout",
     "output_type": "stream",
     "text": [
      "epoch:19\t  training_loss:0.0111651388576863\t  validation_loss:0.014609315859545611\t  train_accuracy:99.83824640967498\t  validation_accuracy:99.57142857142857\n",
      "Validation loss decreased (0.014708 --> 0.014609).  Saving model ...\n"
     ]
    }
   ],
   "source": [
    "epochs= 20\n",
    "valid_loss_min = np.Inf\n",
    "train_epoch=[]\n",
    "train_loss_vals=[]\n",
    "train_acc_vals=[]\n",
    "valid_epoch=[]\n",
    "valid_loss_vals=[]\n",
    "valid_acc_vals=[]\n",
    "test_loss_val=[]\n",
    "test_epoch=[]\n",
    "train_loader, valid_loader= create_dataloaders(seed=seed)\n",
    "for i in range(epochs):\n",
    "    model.train()\n",
    "    train_acc=0\n",
    "    valid_acc=0\n",
    "    total=0\n",
    "    with tqdm(train_loader, unit=\"batch\") as tepoch:\n",
    "        for data, target in tepoch:\n",
    "            if torch.cuda.is_available():\n",
    "                data,target = data.cuda(), target.cuda()\n",
    "            optimizer.zero_grad()\n",
    "            output=model(data)\n",
    "            _, predicted = torch.max(output.data, 1)\n",
    "            train_acc+=((predicted==target).sum().item())\n",
    "            total += target.size(0)\n",
    "            loss = criterion(output, target)\n",
    "            loss.backward()\n",
    "            train_epoch.append(loss.item())\n",
    "            optimizer.step()\n",
    "        \n",
    "    xp_lr_scheduler.step()\n",
    "    train_loss_vals.append(sum(train_epoch)/len(train_epoch))\n",
    "    train_acc_vals.append(100 * train_acc/ total)\n",
    "    model.eval()\n",
    "    total=0\n",
    "    with tqdm(valid_loader, unit=\"batch\") as tepoch:\n",
    "        for data, target in tepoch:\n",
    "            if torch.cuda.is_available():\n",
    "                data,target= data.cuda(),target.cuda()\n",
    "            output=model(data)\n",
    "            _, predicted = torch.max(output.data, 1)\n",
    "            valid_acc+=((predicted==target).sum().item())\n",
    "            total += target.size(0)\n",
    "            loss= criterion(output,target)\n",
    "            valid_epoch.append(loss.item())\n",
    "    valid_loss_vals.append(sum(valid_epoch)/len(valid_epoch))\n",
    "    valid_acc_vals.append(100 * valid_acc/ total)\n",
    "    \n",
    "    print(\"epoch:{}\\t  training_loss:{}\\t  validation_loss:{}\\t  train_accuracy:{}\\t  validation_accuracy:{}\"\n",
    "          .format(i,train_loss_vals[i],valid_loss_vals[i],train_acc_vals[i],valid_acc_vals[i]))\n",
    "    if valid_loss_vals[i] <= valid_loss_min:\n",
    "        print('Validation loss decreased ({:.6f} --> {:.6f}).  Saving model ...'.format(\n",
    "        valid_loss_min,\n",
    "        valid_loss_vals[i]))\n",
    "        torch.save(model.state_dict(), 'model_cifar.pt')\n",
    "        valid_loss_min = valid_loss_vals[i]"
   ]
  },
  {
   "cell_type": "markdown",
   "id": "legal-voltage",
   "metadata": {
    "papermill": {
     "duration": 10.741103,
     "end_time": "2021-04-22T16:33:09.809576",
     "exception": false,
     "start_time": "2021-04-22T16:32:59.068473",
     "status": "completed"
    },
    "tags": []
   },
   "source": [
    "# 9. Saving the model."
   ]
  },
  {
   "cell_type": "code",
   "execution_count": 12,
   "id": "mighty-promise",
   "metadata": {
    "execution": {
     "iopub.execute_input": "2021-04-22T16:33:31.931962Z",
     "iopub.status.busy": "2021-04-22T16:33:31.931325Z",
     "iopub.status.idle": "2021-04-22T16:33:32.006794Z",
     "shell.execute_reply": "2021-04-22T16:33:32.007241Z"
    },
    "papermill": {
     "duration": 11.339419,
     "end_time": "2021-04-22T16:33:32.007390",
     "exception": false,
     "start_time": "2021-04-22T16:33:20.667971",
     "status": "completed"
    },
    "tags": []
   },
   "outputs": [
    {
     "data": {
      "text/plain": [
       "<All keys matched successfully>"
      ]
     },
     "execution_count": 12,
     "metadata": {},
     "output_type": "execute_result"
    }
   ],
   "source": [
    "model.load_state_dict(torch.load('model_cifar.pt'))"
   ]
  },
  {
   "cell_type": "markdown",
   "id": "atomic-father",
   "metadata": {
    "papermill": {
     "duration": 10.825739,
     "end_time": "2021-04-22T16:33:53.657089",
     "exception": false,
     "start_time": "2021-04-22T16:33:42.831350",
     "status": "completed"
    },
    "tags": []
   },
   "source": [
    "# 10. Plotting the train and validation accuracy curves."
   ]
  },
  {
   "cell_type": "code",
   "execution_count": 13,
   "id": "patent-hundred",
   "metadata": {
    "execution": {
     "iopub.execute_input": "2021-04-22T16:34:15.735663Z",
     "iopub.status.busy": "2021-04-22T16:34:15.735077Z",
     "iopub.status.idle": "2021-04-22T16:34:15.883234Z",
     "shell.execute_reply": "2021-04-22T16:34:15.882496Z"
    },
    "papermill": {
     "duration": 11.001037,
     "end_time": "2021-04-22T16:34:15.883360",
     "exception": false,
     "start_time": "2021-04-22T16:34:04.882323",
     "status": "completed"
    },
    "tags": []
   },
   "outputs": [
    {
     "data": {
      "text/plain": [
       "Text(0.5, 1.0, 'Accuracy curve')"
      ]
     },
     "execution_count": 13,
     "metadata": {},
     "output_type": "execute_result"
    },
    {
     "data": {
      "image/png": "[encoded data removed]",
      "text/plain": [
       "<Figure size 432x288 with 1 Axes>"
      ]
     },
     "metadata": {
      "needs_background": "light"
     },
     "output_type": "display_data"
    }
   ],
   "source": [
    "plt.plot(np.linspace(1, epochs, epochs).astype(int), train_acc_vals,label='train_accuracy')\n",
    "plt.plot(np.linspace(1, epochs, epochs).astype(int), valid_acc_vals,label='valid_accuracy')\n",
    "plt.xlabel('epochs')\n",
    "plt.ylabel('accuracy')\n",
    "plt.legend()\n",
    "plt.title('Accuracy curve')"
   ]
  },
  {
   "cell_type": "markdown",
   "id": "higher-sierra",
   "metadata": {
    "papermill": {
     "duration": 10.831491,
     "end_time": "2021-04-22T16:34:37.948866",
     "exception": false,
     "start_time": "2021-04-22T16:34:27.117375",
     "status": "completed"
    },
    "tags": []
   },
   "source": [
    "# 11. Plotting the train and validation loss curves."
   ]
  },
  {
   "cell_type": "code",
   "execution_count": 14,
   "id": "polish-material",
   "metadata": {
    "execution": {
     "iopub.execute_input": "2021-04-22T16:35:00.039676Z",
     "iopub.status.busy": "2021-04-22T16:35:00.034785Z",
     "iopub.status.idle": "2021-04-22T16:35:00.170844Z",
     "shell.execute_reply": "2021-04-22T16:35:00.170358Z"
    },
    "papermill": {
     "duration": 11.441658,
     "end_time": "2021-04-22T16:35:00.170971",
     "exception": false,
     "start_time": "2021-04-22T16:34:48.729313",
     "status": "completed"
    },
    "tags": []
   },
   "outputs": [
    {
     "data": {
      "text/plain": [
       "Text(0.5, 1.0, 'loss functions')"
      ]
     },
     "execution_count": 14,
     "metadata": {},
     "output_type": "execute_result"
    },
    {
     "data": {
      "image/png": "[encoded data removed]",
      "text/plain": [
       "<Figure size 432x288 with 1 Axes>"
      ]
     },
     "metadata": {
      "needs_background": "light"
     },
     "output_type": "display_data"
    }
   ],
   "source": [
    "plt.plot(np.linspace(1, epochs, epochs).astype(int), train_loss_vals,label='train_loss')\n",
    "plt.plot(np.linspace(1, epochs, epochs).astype(int), valid_loss_vals,label='valid_loss')\n",
    "plt.xlabel('epochs')\n",
    "plt.ylabel('loss')\n",
    "plt.legend()\n",
    "plt.title('loss functions')"
   ]
  },
  {
   "cell_type": "markdown",
   "id": "institutional-extent",
   "metadata": {
    "papermill": {
     "duration": 10.716573,
     "end_time": "2021-04-22T16:35:21.655727",
     "exception": false,
     "start_time": "2021-04-22T16:35:10.939154",
     "status": "completed"
    },
    "tags": []
   },
   "source": [
    "# 12. Loading the test data and preprocessing the images."
   ]
  },
  {
   "cell_type": "code",
   "execution_count": 15,
   "id": "prerequisite-output",
   "metadata": {
    "execution": {
     "iopub.execute_input": "2021-04-22T16:35:43.583747Z",
     "iopub.status.busy": "2021-04-22T16:35:43.582688Z",
     "iopub.status.idle": "2021-04-22T16:35:43.739578Z",
     "shell.execute_reply": "2021-04-22T16:35:43.738769Z"
    },
    "papermill": {
     "duration": 10.910744,
     "end_time": "2021-04-22T16:35:43.739706",
     "exception": false,
     "start_time": "2021-04-22T16:35:32.828962",
     "status": "completed"
    },
    "tags": []
   },
   "outputs": [
    {
     "name": "stdout",
     "output_type": "stream",
     "text": [
      "(28000, 1, 28, 28)\n"
     ]
    }
   ],
   "source": [
    "\n",
    "test_images = test.values.reshape((-1, 1, 28, 28)) / 255.0\n",
    "print(test_images.shape)\n",
    "\n",
    "test_image_tensor = torch.tensor(test_images, dtype=torch.float32)"
   ]
  },
  {
   "cell_type": "markdown",
   "id": "pretty-belfast",
   "metadata": {
    "papermill": {
     "duration": 11.281262,
     "end_time": "2021-04-22T16:36:05.806124",
     "exception": false,
     "start_time": "2021-04-22T16:35:54.524862",
     "status": "completed"
    },
    "tags": []
   },
   "source": [
    "# 13. Making the predictions."
   ]
  },
  {
   "cell_type": "code",
   "execution_count": 16,
   "id": "frozen-potato",
   "metadata": {
    "execution": {
     "iopub.execute_input": "2021-04-22T16:36:27.276198Z",
     "iopub.status.busy": "2021-04-22T16:36:27.275278Z",
     "iopub.status.idle": "2021-04-22T16:42:14.563271Z",
     "shell.execute_reply": "2021-04-22T16:42:14.562702Z"
    },
    "papermill": {
     "duration": 357.98914,
     "end_time": "2021-04-22T16:42:14.563420",
     "exception": false,
     "start_time": "2021-04-22T16:36:16.574280",
     "status": "completed"
    },
    "tags": []
   },
   "outputs": [],
   "source": [
    "model.eval()\n",
    "result = np.zeros(test_images.shape[0], dtype=np.int64)\n",
    "\n",
    "with torch.no_grad():\n",
    "    for i in range(test_images.shape[0]):\n",
    "        image = test_image_tensor[i, 0, :, :].view(1, 1, 28, 28)\n",
    "        output=model(image.cuda())\n",
    "        _, pred = torch.max(output, 1) \n",
    "        result[i] = classes[pred.item()]"
   ]
  },
  {
   "cell_type": "code",
   "execution_count": 17,
   "id": "boxed-printing",
   "metadata": {
    "execution": {
     "iopub.execute_input": "2021-04-22T16:42:36.188030Z",
     "iopub.status.busy": "2021-04-22T16:42:36.187308Z",
     "iopub.status.idle": "2021-04-22T16:42:36.190426Z",
     "shell.execute_reply": "2021-04-22T16:42:36.190825Z"
    },
    "papermill": {
     "duration": 10.803633,
     "end_time": "2021-04-22T16:42:36.190968",
     "exception": false,
     "start_time": "2021-04-22T16:42:25.387335",
     "status": "completed"
    },
    "tags": []
   },
   "outputs": [
    {
     "data": {
      "text/plain": [
       "array([2, 0, 9, 0, 3, 7, 0, 3, 0, 3])"
      ]
     },
     "execution_count": 17,
     "metadata": {},
     "output_type": "execute_result"
    }
   ],
   "source": [
    "result[:10]"
   ]
  },
  {
   "cell_type": "code",
   "execution_count": 18,
   "id": "successful-russian",
   "metadata": {
    "execution": {
     "iopub.execute_input": "2021-04-22T16:42:58.295536Z",
     "iopub.status.busy": "2021-04-22T16:42:58.294914Z",
     "iopub.status.idle": "2021-04-22T16:42:58.315053Z",
     "shell.execute_reply": "2021-04-22T16:42:58.314573Z"
    },
    "papermill": {
     "duration": 10.724869,
     "end_time": "2021-04-22T16:42:58.315177",
     "exception": false,
     "start_time": "2021-04-22T16:42:47.590308",
     "status": "completed"
    },
    "tags": []
   },
   "outputs": [],
   "source": [
    "sample_submission=pd.read_csv('../input/digit-recognizer/sample_submission.csv')\n",
    "sample_submission['Label']=result"
   ]
  },
  {
   "cell_type": "code",
   "execution_count": 19,
   "id": "indirect-tribune",
   "metadata": {
    "execution": {
     "iopub.execute_input": "2021-04-22T16:43:20.633064Z",
     "iopub.status.busy": "2021-04-22T16:43:20.632442Z",
     "iopub.status.idle": "2021-04-22T16:43:20.640201Z",
     "shell.execute_reply": "2021-04-22T16:43:20.639789Z"
    },
    "papermill": {
     "duration": 11.566552,
     "end_time": "2021-04-22T16:43:20.640326",
     "exception": false,
     "start_time": "2021-04-22T16:43:09.073774",
     "status": "completed"
    },
    "tags": []
   },
   "outputs": [
    {
     "data": {
      "text/html": [
       "<div>\n",
       "<style scoped>\n",
       "    .dataframe tbody tr th:only-of-type {\n",
       "        vertical-align: middle;\n",
       "    }\n",
       "\n",
       "    .dataframe tbody tr th {\n",
       "        vertical-align: top;\n",
       "    }\n",
       "\n",
       "    .dataframe thead th {\n",
       "        text-align: right;\n",
       "    }\n",
       "</style>\n",
       "<table border=\"1\" class=\"dataframe\">\n",
       "  <thead>\n",
       "    <tr style=\"text-align: right;\">\n",
       "      <th></th>\n",
       "      <th>ImageId</th>\n",
       "      <th>Label</th>\n",
       "    </tr>\n",
       "  </thead>\n",
       "  <tbody>\n",
       "    <tr>\n",
       "      <th>0</th>\n",
       "      <td>1</td>\n",
       "      <td>2</td>\n",
       "    </tr>\n",
       "    <tr>\n",
       "      <th>1</th>\n",
       "      <td>2</td>\n",
       "      <td>0</td>\n",
       "    </tr>\n",
       "    <tr>\n",
       "      <th>2</th>\n",
       "      <td>3</td>\n",
       "      <td>9</td>\n",
       "    </tr>\n",
       "    <tr>\n",
       "      <th>3</th>\n",
       "      <td>4</td>\n",
       "      <td>0</td>\n",
       "    </tr>\n",
       "    <tr>\n",
       "      <th>4</th>\n",
       "      <td>5</td>\n",
       "      <td>3</td>\n",
       "    </tr>\n",
       "    <tr>\n",
       "      <th>...</th>\n",
       "      <td>...</td>\n",
       "      <td>...</td>\n",
       "    </tr>\n",
       "    <tr>\n",
       "      <th>27995</th>\n",
       "      <td>27996</td>\n",
       "      <td>9</td>\n",
       "    </tr>\n",
       "    <tr>\n",
       "      <th>27996</th>\n",
       "      <td>27997</td>\n",
       "      <td>7</td>\n",
       "    </tr>\n",
       "    <tr>\n",
       "      <th>27997</th>\n",
       "      <td>27998</td>\n",
       "      <td>3</td>\n",
       "    </tr>\n",
       "    <tr>\n",
       "      <th>27998</th>\n",
       "      <td>27999</td>\n",
       "      <td>9</td>\n",
       "    </tr>\n",
       "    <tr>\n",
       "      <th>27999</th>\n",
       "      <td>28000</td>\n",
       "      <td>2</td>\n",
       "    </tr>\n",
       "  </tbody>\n",
       "</table>\n",
       "<p>28000 rows × 2 columns</p>\n",
       "</div>"
      ],
      "text/plain": [
       "       ImageId  Label\n",
       "0            1      2\n",
       "1            2      0\n",
       "2            3      9\n",
       "3            4      0\n",
       "4            5      3\n",
       "...        ...    ...\n",
       "27995    27996      9\n",
       "27996    27997      7\n",
       "27997    27998      3\n",
       "27998    27999      9\n",
       "27999    28000      2\n",
       "\n",
       "[28000 rows x 2 columns]"
      ]
     },
     "execution_count": 19,
     "metadata": {},
     "output_type": "execute_result"
    }
   ],
   "source": [
    "sample_submission"
   ]
  },
  {
   "cell_type": "markdown",
   "id": "certified-latino",
   "metadata": {
    "papermill": {
     "duration": 11.303416,
     "end_time": "2021-04-22T16:43:42.679752",
     "exception": false,
     "start_time": "2021-04-22T16:43:31.376336",
     "status": "completed"
    },
    "tags": []
   },
   "source": [
    "# 14. Converting predictions to CSV file and submitting."
   ]
  },
  {
   "cell_type": "code",
   "execution_count": 20,
   "id": "opponent-ideal",
   "metadata": {
    "execution": {
     "iopub.execute_input": "2021-04-22T16:44:04.332030Z",
     "iopub.status.busy": "2021-04-22T16:44:04.331249Z",
     "iopub.status.idle": "2021-04-22T16:44:04.625214Z",
     "shell.execute_reply": "2021-04-22T16:44:04.624772Z"
    },
    "papermill": {
     "duration": 11.16046,
     "end_time": "2021-04-22T16:44:04.625350",
     "exception": false,
     "start_time": "2021-04-22T16:43:53.464890",
     "status": "completed"
    },
    "tags": []
   },
   "outputs": [],
   "source": [
    "sample_submission.to_csv('submission1.csv', index=False)"
   ]
  },
  {
   "cell_type": "markdown",
   "id": "small-intervention",
   "metadata": {
    "papermill": {
     "duration": 10.785445,
     "end_time": "2021-04-22T16:44:26.668361",
     "exception": false,
     "start_time": "2021-04-22T16:44:15.882916",
     "status": "completed"
    },
    "tags": []
   },
   "source": [
    "**With this, we come to the end of the notebook.\n",
    "Please upvote if you found it useful :)\n",
    "It motivates me a lot to share more such stuff.**"
   ]
  }
 ],
 "metadata": {
  "kernelspec": {
   "display_name": "Python 3",
   "language": "python",
   "name": "python3"
  },
  "language_info": {
   "codemirror_mode": {
    "name": "ipython",
    "version": 3
   },
   "file_extension": ".py",
   "mimetype": "text/x-python",
   "name": "python",
   "nbconvert_exporter": "python",
   "pygments_lexer": "ipython3",
   "version": "3.7.9"
  },
  "papermill": {
   "default_parameters": {},
   "duration": 6233.534624,
   "end_time": "2021-04-22T16:44:39.363218",
   "environment_variables": {},
   "exception": null,
   "input_path": "__notebook__.ipynb",
   "output_path": "__notebook__.ipynb",
   "parameters": {},
   "start_time": "2021-04-22T15:00:45.828594",
   "version": "2.3.2"
  },
  "widgets": {
   "application/vnd.jupyter.widget-state+json": {
    "state": {
     "1eecda85a8884a129e870adc25bcd851": {
      "model_module": "@jupyter-widgets/controls",
      "model_module_version": "1.5.0",
      "model_name": "DescriptionStyleModel",
      "state": {
       "_model_module": "@jupyter-widgets/controls",
       "_model_module_version": "1.5.0",
       "_model_name": "DescriptionStyleModel",
       "_view_count": null,
       "_view_module": "@jupyter-widgets/base",
       "_view_module_version": "1.2.0",
       "_view_name": "StyleView",
       "description_width": ""
      }
     },
     "2f94451afc5343c489f963a7636e7d30": {
      "model_module": "@jupyter-widgets/controls",
      "model_module_version": "1.5.0",
      "model_name": "ProgressStyleModel",
      "state": {
       "_model_module": "@jupyter-widgets/controls",
       "_model_module_version": "1.5.0",
       "_model_name": "ProgressStyleModel",
       "_view_count": null,
       "_view_module": "@jupyter-widgets/base",
       "_view_module_version": "1.2.0",
       "_view_name": "StyleView",
       "bar_color": null,
       "description_width": ""
      }
     },
     "31e05031f4c8437e9c0e47b0dcd2f73a": {
      "model_module": "@jupyter-widgets/controls",
      "model_module_version": "1.5.0",
      "model_name": "DescriptionStyleModel",
      "state": {
       "_model_module": "@jupyter-widgets/controls",
       "_model_module_version": "1.5.0",
       "_model_name": "DescriptionStyleModel",
       "_view_count": null,
       "_view_module": "@jupyter-widgets/base",
       "_view_module_version": "1.2.0",
       "_view_name": "StyleView",
       "description_width": ""
      }
     },
     "5626585da7054d58a04e3627297668b0": {
      "model_module": "@jupyter-widgets/base",
      "model_module_version": "1.2.0",
      "model_name": "LayoutModel",
      "state": {
       "_model_module": "@jupyter-widgets/base",
       "_model_module_version": "1.2.0",
       "_model_name": "LayoutModel",
       "_view_count": null,
       "_view_module": "@jupyter-widgets/base",
       "_view_module_version": "1.2.0",
       "_view_name": "LayoutView",
       "align_content": null,
       "align_items": null,
       "align_self": null,
       "border": null,
       "bottom": null,
       "display": null,
       "flex": null,
       "flex_flow": null,
       "grid_area": null,
       "grid_auto_columns": null,
       "grid_auto_flow": null,
       "grid_auto_rows": null,
       "grid_column": null,
       "grid_gap": null,
       "grid_row": null,
       "grid_template_areas": null,
       "grid_template_columns": null,
       "grid_template_rows": null,
       "height": null,
       "justify_content": null,
       "justify_items": null,
       "left": null,
       "margin": null,
       "max_height": null,
       "max_width": null,
       "min_height": null,
       "min_width": null,
       "object_fit": null,
       "object_position": null,
       "order": null,
       "overflow": null,
       "overflow_x": null,
       "overflow_y": null,
       "padding": null,
       "right": null,
       "top": null,
       "visibility": null,
       "width": null
      }
     },
     "90c566db7e574fedaa81b893696052c6": {
      "model_module": "@jupyter-widgets/base",
      "model_module_version": "1.2.0",
      "model_name": "LayoutModel",
      "state": {
       "_model_module": "@jupyter-widgets/base",
       "_model_module_version": "1.2.0",
       "_model_name": "LayoutModel",
       "_view_count": null,
       "_view_module": "@jupyter-widgets/base",
       "_view_module_version": "1.2.0",
       "_view_name": "LayoutView",
       "align_content": null,
       "align_items": null,
       "align_self": null,
       "border": null,
       "bottom": null,
       "display": null,
       "flex": null,
       "flex_flow": null,
       "grid_area": null,
       "grid_auto_columns": null,
       "grid_auto_flow": null,
       "grid_auto_rows": null,
       "grid_column": null,
       "grid_gap": null,
       "grid_row": null,
       "grid_template_areas": null,
       "grid_template_columns": null,
       "grid_template_rows": null,
       "height": null,
       "justify_content": null,
       "justify_items": null,
       "left": null,
       "margin": null,
       "max_height": null,
       "max_width": null,
       "min_height": null,
       "min_width": null,
       "object_fit": null,
       "object_position": null,
       "order": null,
       "overflow": null,
       "overflow_x": null,
       "overflow_y": null,
       "padding": null,
       "right": null,
       "top": null,
       "visibility": null,
       "width": null
      }
     },
     "995e88b4ed0d4c2aab4e6118e76fd7a0": {
      "model_module": "@jupyter-widgets/controls",
      "model_module_version": "1.5.0",
      "model_name": "HTMLModel",
      "state": {
       "_dom_classes": [],
       "_model_module": "@jupyter-widgets/controls",
       "_model_module_version": "1.5.0",
       "_model_name": "HTMLModel",
       "_view_count": null,
       "_view_module": "@jupyter-widgets/controls",
       "_view_module_version": "1.5.0",
       "_view_name": "HTMLView",
       "description": "",
       "description_tooltip": null,
       "layout": "IPY_MODEL_5626585da7054d58a04e3627297668b0",
       "placeholder": "​",
       "style": "IPY_MODEL_1eecda85a8884a129e870adc25bcd851",
       "value": "100%"
      }
     },
     "c180226321bc4fdaa67d1371bed61d4a": {
      "model_module": "@jupyter-widgets/base",
      "model_module_version": "1.2.0",
      "model_name": "LayoutModel",
      "state": {
       "_model_module": "@jupyter-widgets/base",
       "_model_module_version": "1.2.0",
       "_model_name": "LayoutModel",
       "_view_count": null,
       "_view_module": "@jupyter-widgets/base",
       "_view_module_version": "1.2.0",
       "_view_name": "LayoutView",
       "align_content": null,
       "align_items": null,
       "align_self": null,
       "border": null,
       "bottom": null,
       "display": null,
       "flex": null,
       "flex_flow": null,
       "grid_area": null,
       "grid_auto_columns": null,
       "grid_auto_flow": null,
       "grid_auto_rows": null,
       "grid_column": null,
       "grid_gap": null,
       "grid_row": null,
       "grid_template_areas": null,
       "grid_template_columns": null,
       "grid_template_rows": null,
       "height": null,
       "justify_content": null,
       "justify_items": null,
       "left": null,
       "margin": null,
       "max_height": null,
       "max_width": null,
       "min_height": null,
       "min_width": null,
       "object_fit": null,
       "object_position": null,
       "order": null,
       "overflow": null,
       "overflow_x": null,
       "overflow_y": null,
       "padding": null,
       "right": null,
       "top": null,
       "visibility": null,
       "width": null
      }
     },
     "c1d00753d7a64a5486328f3340174298": {
      "model_module": "@jupyter-widgets/base",
      "model_module_version": "1.2.0",
      "model_name": "LayoutModel",
      "state": {
       "_model_module": "@jupyter-widgets/base",
       "_model_module_version": "1.2.0",
       "_model_name": "LayoutModel",
       "_view_count": null,
       "_view_module": "@jupyter-widgets/base",
       "_view_module_version": "1.2.0",
       "_view_name": "LayoutView",
       "align_content": null,
       "align_items": null,
       "align_self": null,
       "border": null,
       "bottom": null,
       "display": null,
       "flex": null,
       "flex_flow": null,
       "grid_area": null,
       "grid_auto_columns": null,
       "grid_auto_flow": null,
       "grid_auto_rows": null,
       "grid_column": null,
       "grid_gap": null,
       "grid_row": null,
       "grid_template_areas": null,
       "grid_template_columns": null,
       "grid_template_rows": null,
       "height": null,
       "justify_content": null,
       "justify_items": null,
       "left": null,
       "margin": null,
       "max_height": null,
       "max_width": null,
       "min_height": null,
       "min_width": null,
       "object_fit": null,
       "object_position": null,
       "order": null,
       "overflow": null,
       "overflow_x": null,
       "overflow_y": null,
       "padding": null,
       "right": null,
       "top": null,
       "visibility": null,
       "width": null
      }
     },
     "c283298f801c4cb78a4edf43a2c83d0b": {
      "model_module": "@jupyter-widgets/controls",
      "model_module_version": "1.5.0",
      "model_name": "FloatProgressModel",
      "state": {
       "_dom_classes": [],
       "_model_module": "@jupyter-widgets/controls",
       "_model_module_version": "1.5.0",
       "_model_name": "FloatProgressModel",
       "_view_count": null,
       "_view_module": "@jupyter-widgets/controls",
       "_view_module_version": "1.5.0",
       "_view_name": "ProgressView",
       "bar_style": "success",
       "description": "",
       "description_tooltip": null,
       "layout": "IPY_MODEL_c1d00753d7a64a5486328f3340174298",
       "max": 87306240.0,
       "min": 0.0,
       "orientation": "horizontal",
       "style": "IPY_MODEL_2f94451afc5343c489f963a7636e7d30",
       "value": 87306240.0
      }
     },
     "e06ef00ce8954ea69585daaf0e0663b8": {
      "model_module": "@jupyter-widgets/controls",
      "model_module_version": "1.5.0",
      "model_name": "HBoxModel",
      "state": {
       "_dom_classes": [],
       "_model_module": "@jupyter-widgets/controls",
       "_model_module_version": "1.5.0",
       "_model_name": "HBoxModel",
       "_view_count": null,
       "_view_module": "@jupyter-widgets/controls",
       "_view_module_version": "1.5.0",
       "_view_name": "HBoxView",
       "box_style": "",
       "children": [
        "IPY_MODEL_995e88b4ed0d4c2aab4e6118e76fd7a0",
        "IPY_MODEL_c283298f801c4cb78a4edf43a2c83d0b",
        "IPY_MODEL_e56c123b63dd4b0f8ed8607b9733d250"
       ],
       "layout": "IPY_MODEL_90c566db7e574fedaa81b893696052c6"
      }
     },
     "e56c123b63dd4b0f8ed8607b9733d250": {
      "model_module": "@jupyter-widgets/controls",
      "model_module_version": "1.5.0",
      "model_name": "HTMLModel",
      "state": {
       "_dom_classes": [],
       "_model_module": "@jupyter-widgets/controls",
       "_model_module_version": "1.5.0",
       "_model_name": "HTMLModel",
       "_view_count": null,
       "_view_module": "@jupyter-widgets/controls",
       "_view_module_version": "1.5.0",
       "_view_name": "HTMLView",
       "description": "",
       "description_tooltip": null,
       "layout": "IPY_MODEL_c180226321bc4fdaa67d1371bed61d4a",
       "placeholder": "​",
       "style": "IPY_MODEL_31e05031f4c8437e9c0e47b0dcd2f73a",
       "value": " 83.3M/83.3M [00:04&lt;00:00, 23.2MB/s]"
      }
     }
    },
    "version_major": 2,
    "version_minor": 0
   }
  }
 },
 "nbformat": 4,
 "nbformat_minor": 5
}
